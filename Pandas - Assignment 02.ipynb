{
 "cells": [
  {
   "cell_type": "markdown",
   "metadata": {},
   "source": [
    "<img src=\"http://cfs22.simplicdn.net/ice9/new_logo.svgz \"/>\n",
    "\n",
    "# Assignment 02: Evaluate the FDNY Dataset\n",
    "\n",
    "*The comments/sections provided are your cues to perform the assignment. You don't need to limit yourself to the number of rows/cells provided. You can add additional rows in each section to add more lines of code.*\n",
    "\n",
    "*If at any point in time you need help on solving this assignment, view our demo video to understand the different steps of the code.*\n",
    "\n",
    "**Happy coding!**\n",
    "\n",
    "* * *"
   ]
  },
  {
   "cell_type": "markdown",
   "metadata": {},
   "source": [
    "#### 1: View and import the dataset"
   ]
  },
  {
   "cell_type": "code",
   "execution_count": 1,
   "metadata": {},
   "outputs": [],
   "source": [
    "#Import the required libraries\n",
    "import numpy as np\n",
    "import pandas as pd"
   ]
  },
  {
   "cell_type": "code",
   "execution_count": 19,
   "metadata": {},
   "outputs": [],
   "source": [
    "#Import the Fire Department of New York City (FDNY) file\n",
    "df_data=pd.read_csv('FDNY.csv')"
   ]
  },
  {
   "cell_type": "markdown",
   "metadata": {},
   "source": [
    "#### 2: Analyze the dataset"
   ]
  },
  {
   "cell_type": "code",
   "execution_count": 20,
   "metadata": {},
   "outputs": [
    {
     "name": "stdout",
     "output_type": "stream",
     "text": [
      "<class 'pandas.core.frame.DataFrame'>\n",
      "RangeIndex: 219 entries, 0 to 218\n",
      "Data columns (total 3 columns):\n",
      " #   Column           Non-Null Count  Dtype \n",
      "---  ------           --------------  ----- \n",
      " 0   FacilityName     219 non-null    object\n",
      " 1   FacilityAddress  219 non-null    object\n",
      " 2   Borough          219 non-null    object\n",
      "dtypes: object(3)\n",
      "memory usage: 5.3+ KB\n"
     ]
    }
   ],
   "source": [
    "#View the content of the data\n",
    "df_data.info()"
   ]
  },
  {
   "cell_type": "code",
   "execution_count": 30,
   "metadata": {},
   "outputs": [
    {
     "data": {
      "text/html": [
       "<div>\n",
       "<style scoped>\n",
       "    .dataframe tbody tr th:only-of-type {\n",
       "        vertical-align: middle;\n",
       "    }\n",
       "\n",
       "    .dataframe tbody tr th {\n",
       "        vertical-align: top;\n",
       "    }\n",
       "\n",
       "    .dataframe thead th {\n",
       "        text-align: right;\n",
       "    }\n",
       "</style>\n",
       "<table border=\"1\" class=\"dataframe\">\n",
       "  <thead>\n",
       "    <tr style=\"text-align: right;\">\n",
       "      <th></th>\n",
       "      <th>FacilityName</th>\n",
       "      <th>FacilityAddress</th>\n",
       "      <th>Borough</th>\n",
       "    </tr>\n",
       "  </thead>\n",
       "  <tbody>\n",
       "    <tr>\n",
       "      <th>0</th>\n",
       "      <td>FacilityName</td>\n",
       "      <td>FacilityAddress</td>\n",
       "      <td>Borough</td>\n",
       "    </tr>\n",
       "    <tr>\n",
       "      <th>1</th>\n",
       "      <td>Engine 4/Ladder 15</td>\n",
       "      <td>42 South Street</td>\n",
       "      <td>Manhattan</td>\n",
       "    </tr>\n",
       "    <tr>\n",
       "      <th>2</th>\n",
       "      <td>Engine 10/Ladder 10</td>\n",
       "      <td>124 Liberty Street</td>\n",
       "      <td>Manhattan</td>\n",
       "    </tr>\n",
       "    <tr>\n",
       "      <th>3</th>\n",
       "      <td>Engine 6</td>\n",
       "      <td>49 Beekman Street</td>\n",
       "      <td>Manhattan</td>\n",
       "    </tr>\n",
       "    <tr>\n",
       "      <th>4</th>\n",
       "      <td>Engine 7/Ladder 1/Battalion 1/Manhattan Boroug...</td>\n",
       "      <td>100-104 Duane Street</td>\n",
       "      <td>Manhattan</td>\n",
       "    </tr>\n",
       "  </tbody>\n",
       "</table>\n",
       "</div>"
      ],
      "text/plain": [
       "                                        FacilityName       FacilityAddress  \\\n",
       "0                                       FacilityName       FacilityAddress   \n",
       "1                                 Engine 4/Ladder 15       42 South Street   \n",
       "2                                Engine 10/Ladder 10    124 Liberty Street   \n",
       "3                                           Engine 6     49 Beekman Street   \n",
       "4  Engine 7/Ladder 1/Battalion 1/Manhattan Boroug...  100-104 Duane Street   \n",
       "\n",
       "     Borough  \n",
       "0    Borough  \n",
       "1  Manhattan  \n",
       "2  Manhattan  \n",
       "3  Manhattan  \n",
       "4  Manhattan  "
      ]
     },
     "execution_count": 30,
     "metadata": {},
     "output_type": "execute_result"
    }
   ],
   "source": [
    "#View the first five records\n",
    "df_data.head()\n"
   ]
  },
  {
   "cell_type": "code",
   "execution_count": 31,
   "metadata": {},
   "outputs": [
    {
     "data": {
      "text/plain": [
       "(6, 3)"
      ]
     },
     "execution_count": 31,
     "metadata": {},
     "output_type": "execute_result"
    }
   ],
   "source": [
    "#Skip the duplicate header row\n",
    "df=df_data.drop_duplicates(['Borough'])\n",
    "df.shape"
   ]
  },
  {
   "cell_type": "code",
   "execution_count": 32,
   "metadata": {},
   "outputs": [
    {
     "data": {
      "text/html": [
       "<div>\n",
       "<style scoped>\n",
       "    .dataframe tbody tr th:only-of-type {\n",
       "        vertical-align: middle;\n",
       "    }\n",
       "\n",
       "    .dataframe tbody tr th {\n",
       "        vertical-align: top;\n",
       "    }\n",
       "\n",
       "    .dataframe thead th {\n",
       "        text-align: right;\n",
       "    }\n",
       "</style>\n",
       "<table border=\"1\" class=\"dataframe\">\n",
       "  <thead>\n",
       "    <tr style=\"text-align: right;\">\n",
       "      <th></th>\n",
       "      <th>FacilityName</th>\n",
       "      <th>FacilityAddress</th>\n",
       "      <th>Borough</th>\n",
       "    </tr>\n",
       "  </thead>\n",
       "  <tbody>\n",
       "    <tr>\n",
       "      <th>0</th>\n",
       "      <td>FacilityName</td>\n",
       "      <td>FacilityAddress</td>\n",
       "      <td>Borough</td>\n",
       "    </tr>\n",
       "    <tr>\n",
       "      <th>1</th>\n",
       "      <td>Engine 4/Ladder 15</td>\n",
       "      <td>42 South Street</td>\n",
       "      <td>Manhattan</td>\n",
       "    </tr>\n",
       "    <tr>\n",
       "      <th>49</th>\n",
       "      <td>Engine 60/Ladder 17/Battalion 14</td>\n",
       "      <td>341 East 143rd Street</td>\n",
       "      <td>Bronx</td>\n",
       "    </tr>\n",
       "    <tr>\n",
       "      <th>83</th>\n",
       "      <td>Engine 207/Ladder 110/Battalion 31/Division 11...</td>\n",
       "      <td>172 Tillary Street</td>\n",
       "      <td>Brooklyn</td>\n",
       "    </tr>\n",
       "    <tr>\n",
       "      <th>149</th>\n",
       "      <td>Engine 258/Ladder 115</td>\n",
       "      <td>10-40 47th Avenue</td>\n",
       "      <td>Queens</td>\n",
       "    </tr>\n",
       "    <tr>\n",
       "      <th>199</th>\n",
       "      <td>Marine 9</td>\n",
       "      <td>Saint George Ferry Terminal</td>\n",
       "      <td>Staten Island</td>\n",
       "    </tr>\n",
       "  </tbody>\n",
       "</table>\n",
       "</div>"
      ],
      "text/plain": [
       "                                          FacilityName  \\\n",
       "0                                         FacilityName   \n",
       "1                                   Engine 4/Ladder 15   \n",
       "49                    Engine 60/Ladder 17/Battalion 14   \n",
       "83   Engine 207/Ladder 110/Battalion 31/Division 11...   \n",
       "149                              Engine 258/Ladder 115   \n",
       "199                                           Marine 9   \n",
       "\n",
       "                 FacilityAddress        Borough  \n",
       "0                FacilityAddress        Borough  \n",
       "1                42 South Street      Manhattan  \n",
       "49         341 East 143rd Street          Bronx  \n",
       "83            172 Tillary Street       Brooklyn  \n",
       "149            10-40 47th Avenue         Queens  \n",
       "199  Saint George Ferry Terminal  Staten Island  "
      ]
     },
     "execution_count": 32,
     "metadata": {},
     "output_type": "execute_result"
    }
   ],
   "source": [
    "#Verify if the dataset is fixed\n",
    "df\n"
   ]
  },
  {
   "cell_type": "code",
   "execution_count": 35,
   "metadata": {},
   "outputs": [
    {
     "data": {
      "text/plain": [
       "<bound method NDFrame.describe of                                           FacilityName  \\\n",
       "0                                         FacilityName   \n",
       "1                                   Engine 4/Ladder 15   \n",
       "2                                  Engine 10/Ladder 10   \n",
       "3                                             Engine 6   \n",
       "4    Engine 7/Ladder 1/Battalion 1/Manhattan Boroug...   \n",
       "..                                                 ...   \n",
       "214                  Engine 162/Ladder 82/Battalion 23   \n",
       "215                               Engine 167/Ladder 87   \n",
       "216                               Engine 164/Ladder 84   \n",
       "217                          Engine 168/EMS Station 23   \n",
       "218                               Engine 151/Ladder 76   \n",
       "\n",
       "              FacilityAddress        Borough  \n",
       "0             FacilityAddress        Borough  \n",
       "1             42 South Street      Manhattan  \n",
       "2          124 Liberty Street      Manhattan  \n",
       "3           49 Beekman Street      Manhattan  \n",
       "4        100-104 Duane Street      Manhattan  \n",
       "..                        ...            ...  \n",
       "214         256 Nelson Avenue  Staten Island  \n",
       "215         345 Annadale Road  Staten Island  \n",
       "216  1560 Drumgoole Road West  Staten Island  \n",
       "217     1100 Rossville Avenue  Staten Island  \n",
       "218           7219 Amboy Road  Staten Island  \n",
       "\n",
       "[219 rows x 3 columns]>"
      ]
     },
     "execution_count": 35,
     "metadata": {},
     "output_type": "execute_result"
    }
   ],
   "source": [
    "#View the data statistics (Hint: use describe() method)\n",
    "df_data.describe"
   ]
  },
  {
   "cell_type": "code",
   "execution_count": 36,
   "metadata": {},
   "outputs": [
    {
     "data": {
      "text/plain": [
       "Index(['FacilityName', 'FacilityAddress', 'Borough'], dtype='object')"
      ]
     },
     "execution_count": 36,
     "metadata": {},
     "output_type": "execute_result"
    }
   ],
   "source": [
    "#View the attributes of the dataset (Hint: view the column names)\n",
    "df_data.columns"
   ]
  },
  {
   "cell_type": "code",
   "execution_count": 38,
   "metadata": {},
   "outputs": [
    {
     "data": {
      "text/plain": [
       "RangeIndex(start=0, stop=219, step=1)"
      ]
     },
     "execution_count": 38,
     "metadata": {},
     "output_type": "execute_result"
    }
   ],
   "source": [
    "#View the index of the dataset\n",
    "df_data.index"
   ]
  },
  {
   "cell_type": "markdown",
   "metadata": {},
   "source": [
    "#### 3: Find the total number of fire department facilities in New York city"
   ]
  },
  {
   "cell_type": "code",
   "execution_count": 40,
   "metadata": {},
   "outputs": [
    {
     "data": {
      "text/plain": [
       "FacilityName       219\n",
       "FacilityAddress    219\n",
       "Borough            219\n",
       "dtype: int64"
      ]
     },
     "execution_count": 40,
     "metadata": {},
     "output_type": "execute_result"
    }
   ],
   "source": [
    "#Count number of records for each attribute\n",
    "df_data.count()"
   ]
  },
  {
   "cell_type": "code",
   "execution_count": 42,
   "metadata": {},
   "outputs": [
    {
     "data": {
      "text/plain": [
       "FacilityName       object\n",
       "FacilityAddress    object\n",
       "Borough            object\n",
       "dtype: object"
      ]
     },
     "execution_count": 42,
     "metadata": {},
     "output_type": "execute_result"
    }
   ],
   "source": [
    "#view the datatypes of all three attributes\n",
    "df_data.dtypes"
   ]
  },
  {
   "cell_type": "markdown",
   "metadata": {},
   "source": [
    "#### 4: Find the total number of fire department facilities in each borough"
   ]
  },
  {
   "cell_type": "code",
   "execution_count": 51,
   "metadata": {},
   "outputs": [
    {
     "data": {
      "text/html": [
       "<div>\n",
       "<style scoped>\n",
       "    .dataframe tbody tr th:only-of-type {\n",
       "        vertical-align: middle;\n",
       "    }\n",
       "\n",
       "    .dataframe tbody tr th {\n",
       "        vertical-align: top;\n",
       "    }\n",
       "\n",
       "    .dataframe thead tr th {\n",
       "        text-align: left;\n",
       "    }\n",
       "\n",
       "    .dataframe thead tr:last-of-type th {\n",
       "        text-align: right;\n",
       "    }\n",
       "</style>\n",
       "<table border=\"1\" class=\"dataframe\">\n",
       "  <thead>\n",
       "    <tr>\n",
       "      <th></th>\n",
       "      <th colspan=\"4\" halign=\"left\">FacilityName</th>\n",
       "      <th colspan=\"4\" halign=\"left\">FacilityAddress</th>\n",
       "    </tr>\n",
       "    <tr>\n",
       "      <th></th>\n",
       "      <th>count</th>\n",
       "      <th>unique</th>\n",
       "      <th>top</th>\n",
       "      <th>freq</th>\n",
       "      <th>count</th>\n",
       "      <th>unique</th>\n",
       "      <th>top</th>\n",
       "      <th>freq</th>\n",
       "    </tr>\n",
       "    <tr>\n",
       "      <th>Borough</th>\n",
       "      <th></th>\n",
       "      <th></th>\n",
       "      <th></th>\n",
       "      <th></th>\n",
       "      <th></th>\n",
       "      <th></th>\n",
       "      <th></th>\n",
       "      <th></th>\n",
       "    </tr>\n",
       "  </thead>\n",
       "  <tbody>\n",
       "    <tr>\n",
       "      <th>Borough</th>\n",
       "      <td>1</td>\n",
       "      <td>1</td>\n",
       "      <td>FacilityName</td>\n",
       "      <td>1</td>\n",
       "      <td>1</td>\n",
       "      <td>1</td>\n",
       "      <td>FacilityAddress</td>\n",
       "      <td>1</td>\n",
       "    </tr>\n",
       "    <tr>\n",
       "      <th>Bronx</th>\n",
       "      <td>34</td>\n",
       "      <td>34</td>\n",
       "      <td>Engine 81/Ladder 46</td>\n",
       "      <td>1</td>\n",
       "      <td>34</td>\n",
       "      <td>34</td>\n",
       "      <td>1226 Seneca Avenue</td>\n",
       "      <td>1</td>\n",
       "    </tr>\n",
       "    <tr>\n",
       "      <th>Brooklyn</th>\n",
       "      <td>66</td>\n",
       "      <td>66</td>\n",
       "      <td>Engine 228</td>\n",
       "      <td>1</td>\n",
       "      <td>66</td>\n",
       "      <td>66</td>\n",
       "      <td>1157 79th Street</td>\n",
       "      <td>1</td>\n",
       "    </tr>\n",
       "    <tr>\n",
       "      <th>Manhattan</th>\n",
       "      <td>48</td>\n",
       "      <td>48</td>\n",
       "      <td>Engine 14</td>\n",
       "      <td>1</td>\n",
       "      <td>48</td>\n",
       "      <td>48</td>\n",
       "      <td>157-59 East 67th Street</td>\n",
       "      <td>1</td>\n",
       "    </tr>\n",
       "    <tr>\n",
       "      <th>Queens</th>\n",
       "      <td>50</td>\n",
       "      <td>50</td>\n",
       "      <td>Engine 265/Ladder 121/Battalion 47 EMS Station 47</td>\n",
       "      <td>1</td>\n",
       "      <td>50</td>\n",
       "      <td>50</td>\n",
       "      <td>30-89 21st Street</td>\n",
       "      <td>1</td>\n",
       "    </tr>\n",
       "    <tr>\n",
       "      <th>Staten Island</th>\n",
       "      <td>20</td>\n",
       "      <td>20</td>\n",
       "      <td>Engine 159</td>\n",
       "      <td>1</td>\n",
       "      <td>20</td>\n",
       "      <td>20</td>\n",
       "      <td>74 Broad Street</td>\n",
       "      <td>1</td>\n",
       "    </tr>\n",
       "  </tbody>\n",
       "</table>\n",
       "</div>"
      ],
      "text/plain": [
       "              FacilityName         \\\n",
       "                     count unique   \n",
       "Borough                             \n",
       "Borough                  1      1   \n",
       "Bronx                   34     34   \n",
       "Brooklyn                66     66   \n",
       "Manhattan               48     48   \n",
       "Queens                  50     50   \n",
       "Staten Island           20     20   \n",
       "\n",
       "                                                                       \\\n",
       "                                                             top freq   \n",
       "Borough                                                                 \n",
       "Borough                                             FacilityName    1   \n",
       "Bronx                                        Engine 81/Ladder 46    1   \n",
       "Brooklyn                                              Engine 228    1   \n",
       "Manhattan                                              Engine 14    1   \n",
       "Queens         Engine 265/Ladder 121/Battalion 47 EMS Station 47    1   \n",
       "Staten Island                                         Engine 159    1   \n",
       "\n",
       "              FacilityAddress                                       \n",
       "                        count unique                      top freq  \n",
       "Borough                                                             \n",
       "Borough                     1      1          FacilityAddress    1  \n",
       "Bronx                      34     34       1226 Seneca Avenue    1  \n",
       "Brooklyn                   66     66         1157 79th Street    1  \n",
       "Manhattan                  48     48  157-59 East 67th Street    1  \n",
       "Queens                     50     50        30-89 21st Street    1  \n",
       "Staten Island              20     20          74 Broad Street    1  "
      ]
     },
     "execution_count": 51,
     "metadata": {},
     "output_type": "execute_result"
    }
   ],
   "source": [
    "#Select FDNY information boroughwise\n",
    "df_data_borough=df_data.groupby('Borough')\n"
   ]
  },
  {
   "cell_type": "code",
   "execution_count": 59,
   "metadata": {},
   "outputs": [
    {
     "data": {
      "text/plain": [
       "Borough\n",
       "Borough           1\n",
       "Bronx            34\n",
       "Brooklyn         66\n",
       "Manhattan        48\n",
       "Queens           50\n",
       "Staten Island    20\n",
       "dtype: int64"
      ]
     },
     "execution_count": 59,
     "metadata": {},
     "output_type": "execute_result"
    }
   ],
   "source": [
    "#View FDNY informationn for each borough\n",
    "df_data_borough.size()"
   ]
  },
  {
   "cell_type": "markdown",
   "metadata": {},
   "source": [
    "#### 5: Find the total number of fire department facilities in Manhattan"
   ]
  },
  {
   "cell_type": "code",
   "execution_count": 60,
   "metadata": {},
   "outputs": [],
   "source": [
    "#Select FDNY information for Manhattan\n",
    "df_manhatan=df_data_borough.get_group('Manhattan')"
   ]
  },
  {
   "cell_type": "code",
   "execution_count": 68,
   "metadata": {},
   "outputs": [
    {
     "data": {
      "text/html": [
       "<div>\n",
       "<style scoped>\n",
       "    .dataframe tbody tr th:only-of-type {\n",
       "        vertical-align: middle;\n",
       "    }\n",
       "\n",
       "    .dataframe tbody tr th {\n",
       "        vertical-align: top;\n",
       "    }\n",
       "\n",
       "    .dataframe thead th {\n",
       "        text-align: right;\n",
       "    }\n",
       "</style>\n",
       "<table border=\"1\" class=\"dataframe\">\n",
       "  <thead>\n",
       "    <tr style=\"text-align: right;\">\n",
       "      <th></th>\n",
       "      <th>FacilityName</th>\n",
       "      <th>FacilityAddress</th>\n",
       "    </tr>\n",
       "  </thead>\n",
       "  <tbody>\n",
       "    <tr>\n",
       "      <th>1</th>\n",
       "      <td>Engine 4/Ladder 15</td>\n",
       "      <td>42 South Street</td>\n",
       "    </tr>\n",
       "    <tr>\n",
       "      <th>2</th>\n",
       "      <td>Engine 10/Ladder 10</td>\n",
       "      <td>124 Liberty Street</td>\n",
       "    </tr>\n",
       "    <tr>\n",
       "      <th>3</th>\n",
       "      <td>Engine 6</td>\n",
       "      <td>49 Beekman Street</td>\n",
       "    </tr>\n",
       "    <tr>\n",
       "      <th>4</th>\n",
       "      <td>Engine 7/Ladder 1/Battalion 1/Manhattan Boroug...</td>\n",
       "      <td>100-104 Duane Street</td>\n",
       "    </tr>\n",
       "    <tr>\n",
       "      <th>5</th>\n",
       "      <td>Ladder 8</td>\n",
       "      <td>14 North Moore Street</td>\n",
       "    </tr>\n",
       "  </tbody>\n",
       "</table>\n",
       "</div>"
      ],
      "text/plain": [
       "                                        FacilityName        FacilityAddress\n",
       "1                                 Engine 4/Ladder 15        42 South Street\n",
       "2                                Engine 10/Ladder 10     124 Liberty Street\n",
       "3                                           Engine 6      49 Beekman Street\n",
       "4  Engine 7/Ladder 1/Battalion 1/Manhattan Boroug...   100-104 Duane Street\n",
       "5                                           Ladder 8  14 North Moore Street"
      ]
     },
     "execution_count": 68,
     "metadata": {},
     "output_type": "execute_result"
    }
   ],
   "source": [
    "#View FDNY information for Manhattan\n",
    "df_manhatan.head()"
   ]
  },
  {
   "cell_type": "code",
   "execution_count": null,
   "metadata": {},
   "outputs": [],
   "source": []
  }
 ],
 "metadata": {
  "kernelspec": {
   "display_name": "Python 3",
   "language": "python",
   "name": "python3"
  },
  "language_info": {
   "codemirror_mode": {
    "name": "ipython",
    "version": 3
   },
   "file_extension": ".py",
   "mimetype": "text/x-python",
   "name": "python",
   "nbconvert_exporter": "python",
   "pygments_lexer": "ipython3",
   "version": "3.7.9"
  }
 },
 "nbformat": 4,
 "nbformat_minor": 1
}
